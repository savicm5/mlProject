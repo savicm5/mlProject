{
 "cells": [
  {
   "cell_type": "code",
   "execution_count": 1,
   "id": "44abd318-bc17-479a-bdb7-56d33c1840b3",
   "metadata": {},
   "outputs": [],
   "source": [
    "import pandas as pd\n",
    "import numpy as np\n",
    "import matplotlib.pyplot as plt\n",
    "import seaborn as sns"
   ]
  },
  {
   "cell_type": "markdown",
   "id": "0439eee0-e1ed-456e-922a-674209c21d76",
   "metadata": {},
   "source": [
    "This dataset contains daily pickup data for 329 FHV (for-hire vehicle) companies from January 2015 through August 2015."
   ]
  },
  {
   "cell_type": "code",
   "execution_count": 2,
   "id": "566ea90c-ad79-4575-9679-4a766f90809b",
   "metadata": {},
   "outputs": [],
   "source": [
    "data = pd.read_csv('../data/other-FHV-services_jan-aug-2015.csv')"
   ]
  },
  {
   "cell_type": "code",
   "execution_count": 3,
   "id": "25405a98-1b18-48e0-9ddd-171c1d54ded5",
   "metadata": {},
   "outputs": [
    {
     "data": {
      "text/html": [
       "<div>\n",
       "<style scoped>\n",
       "    .dataframe tbody tr th:only-of-type {\n",
       "        vertical-align: middle;\n",
       "    }\n",
       "\n",
       "    .dataframe tbody tr th {\n",
       "        vertical-align: top;\n",
       "    }\n",
       "\n",
       "    .dataframe thead th {\n",
       "        text-align: right;\n",
       "    }\n",
       "</style>\n",
       "<table border=\"1\" class=\"dataframe\">\n",
       "  <thead>\n",
       "    <tr style=\"text-align: right;\">\n",
       "      <th></th>\n",
       "      <th>Base Number</th>\n",
       "      <th>Base Name</th>\n",
       "      <th>Pick Up Date</th>\n",
       "      <th>Number of Trips</th>\n",
       "      <th>Number of Vehicles</th>\n",
       "    </tr>\n",
       "  </thead>\n",
       "  <tbody>\n",
       "    <tr>\n",
       "      <th>0</th>\n",
       "      <td>B00013</td>\n",
       "      <td>LOVE CORP CAR INC</td>\n",
       "      <td>01/01/2015</td>\n",
       "      <td>26</td>\n",
       "      <td>17</td>\n",
       "    </tr>\n",
       "    <tr>\n",
       "      <th>1</th>\n",
       "      <td>B00014</td>\n",
       "      <td>NY ONE CORP CAR INC</td>\n",
       "      <td>01/01/2015</td>\n",
       "      <td>45</td>\n",
       "      <td>24</td>\n",
       "    </tr>\n",
       "    <tr>\n",
       "      <th>2</th>\n",
       "      <td>B00029</td>\n",
       "      <td>COMMUNITY CAR SVC CORP</td>\n",
       "      <td>01/01/2015</td>\n",
       "      <td>731</td>\n",
       "      <td>36</td>\n",
       "    </tr>\n",
       "    <tr>\n",
       "      <th>3</th>\n",
       "      <td>B00053</td>\n",
       "      <td>CHARGE AND RIDE INC</td>\n",
       "      <td>01/01/2015</td>\n",
       "      <td>10</td>\n",
       "      <td>9</td>\n",
       "    </tr>\n",
       "    <tr>\n",
       "      <th>4</th>\n",
       "      <td>B00095</td>\n",
       "      <td>LIBERTY CAR SERVICE INC.</td>\n",
       "      <td>01/01/2015</td>\n",
       "      <td>814</td>\n",
       "      <td>62</td>\n",
       "    </tr>\n",
       "  </tbody>\n",
       "</table>\n",
       "</div>"
      ],
      "text/plain": [
       "  Base Number                 Base Name Pick Up Date Number of Trips   \n",
       "0      B00013         LOVE CORP CAR INC   01/01/2015             26   \\\n",
       "1      B00014       NY ONE CORP CAR INC   01/01/2015             45    \n",
       "2      B00029    COMMUNITY CAR SVC CORP   01/01/2015            731    \n",
       "3      B00053       CHARGE AND RIDE INC   01/01/2015             10    \n",
       "4      B00095  LIBERTY CAR SERVICE INC.   01/01/2015            814    \n",
       "\n",
       "  Number of Vehicles  \n",
       "0                17   \n",
       "1                24   \n",
       "2                36   \n",
       "3                 9   \n",
       "4                62   "
      ]
     },
     "execution_count": 3,
     "metadata": {},
     "output_type": "execute_result"
    }
   ],
   "source": [
    "data.head()"
   ]
  },
  {
   "cell_type": "code",
   "execution_count": 4,
   "id": "e66d2313-741b-4f5d-8d0b-c5c2161f0b0b",
   "metadata": {},
   "outputs": [
    {
     "data": {
      "text/plain": [
       "(26181, 5)"
      ]
     },
     "execution_count": 4,
     "metadata": {},
     "output_type": "execute_result"
    }
   ],
   "source": [
    "data.shape"
   ]
  },
  {
   "cell_type": "code",
   "execution_count": 5,
   "id": "5f818385-e10a-4ec1-9ef3-c866492b5cf6",
   "metadata": {},
   "outputs": [
    {
     "data": {
      "text/html": [
       "<div>\n",
       "<style scoped>\n",
       "    .dataframe tbody tr th:only-of-type {\n",
       "        vertical-align: middle;\n",
       "    }\n",
       "\n",
       "    .dataframe tbody tr th {\n",
       "        vertical-align: top;\n",
       "    }\n",
       "\n",
       "    .dataframe thead th {\n",
       "        text-align: right;\n",
       "    }\n",
       "</style>\n",
       "<table border=\"1\" class=\"dataframe\">\n",
       "  <thead>\n",
       "    <tr style=\"text-align: right;\">\n",
       "      <th></th>\n",
       "      <th>Base Number</th>\n",
       "      <th>Base Name</th>\n",
       "      <th>Pick Up Date</th>\n",
       "      <th>Number of Trips</th>\n",
       "      <th>Number of Vehicles</th>\n",
       "    </tr>\n",
       "  </thead>\n",
       "  <tbody>\n",
       "    <tr>\n",
       "      <th>count</th>\n",
       "      <td>26181</td>\n",
       "      <td>26181</td>\n",
       "      <td>26181</td>\n",
       "      <td>26181</td>\n",
       "      <td>26181</td>\n",
       "    </tr>\n",
       "    <tr>\n",
       "      <th>unique</th>\n",
       "      <td>334</td>\n",
       "      <td>329</td>\n",
       "      <td>243</td>\n",
       "      <td>1906</td>\n",
       "      <td>445</td>\n",
       "    </tr>\n",
       "    <tr>\n",
       "      <th>top</th>\n",
       "      <td>B02147</td>\n",
       "      <td>MITA LIMOUSINE, INC.</td>\n",
       "      <td>05/13/2015</td>\n",
       "      <td>1</td>\n",
       "      <td>-</td>\n",
       "    </tr>\n",
       "    <tr>\n",
       "      <th>freq</th>\n",
       "      <td>212</td>\n",
       "      <td>212</td>\n",
       "      <td>212</td>\n",
       "      <td>988</td>\n",
       "      <td>1716</td>\n",
       "    </tr>\n",
       "  </tbody>\n",
       "</table>\n",
       "</div>"
      ],
      "text/plain": [
       "       Base Number             Base Name Pick Up Date Number of Trips   \n",
       "count        26181                 26181        26181           26181  \\\n",
       "unique         334                   329          243            1906   \n",
       "top         B02147  MITA LIMOUSINE, INC.   05/13/2015              1    \n",
       "freq           212                   212          212             988   \n",
       "\n",
       "       Number of Vehicles  \n",
       "count               26181  \n",
       "unique                445  \n",
       "top                  -     \n",
       "freq                 1716  "
      ]
     },
     "execution_count": 5,
     "metadata": {},
     "output_type": "execute_result"
    }
   ],
   "source": [
    "data.describe()"
   ]
  },
  {
   "cell_type": "code",
   "execution_count": 6,
   "id": "24aa5be6-e118-4357-8680-bc106b46e6c8",
   "metadata": {},
   "outputs": [
    {
     "data": {
      "text/plain": [
       "Base Number           0\n",
       "Base Name             0\n",
       "Pick Up Date          0\n",
       "Number of Trips       0\n",
       "Number of Vehicles    0\n",
       "dtype: int64"
      ]
     },
     "execution_count": 6,
     "metadata": {},
     "output_type": "execute_result"
    }
   ],
   "source": [
    "data.isnull().sum()"
   ]
  },
  {
   "cell_type": "code",
   "execution_count": 7,
   "id": "f19a8ad3-7c0f-42c8-aa5f-24fd99a7dcfc",
   "metadata": {},
   "outputs": [
    {
     "name": "stdout",
     "output_type": "stream",
     "text": [
      "<class 'pandas.core.frame.DataFrame'>\n",
      "RangeIndex: 26181 entries, 0 to 26180\n",
      "Data columns (total 5 columns):\n",
      " #   Column              Non-Null Count  Dtype \n",
      "---  ------              --------------  ----- \n",
      " 0   Base Number         26181 non-null  object\n",
      " 1   Base Name           26181 non-null  object\n",
      " 2   Pick Up Date        26181 non-null  object\n",
      " 3   Number of Trips     26181 non-null  object\n",
      " 4   Number of Vehicles  26181 non-null  object\n",
      "dtypes: object(5)\n",
      "memory usage: 1022.8+ KB\n"
     ]
    }
   ],
   "source": [
    "data.info()"
   ]
  },
  {
   "cell_type": "code",
   "execution_count": 12,
   "id": "22c4701e-e0d0-4ada-b907-d38a9fe42933",
   "metadata": {},
   "outputs": [],
   "source": [
    "month_mapping = {\n",
    "    1: 'January',\n",
    "    2: 'February',\n",
    "    3: 'March',\n",
    "    4: 'April',\n",
    "    5: 'May',\n",
    "    6: 'June',\n",
    "    7: 'July',\n",
    "    8: 'August',\n",
    "}"
   ]
  },
  {
   "cell_type": "code",
   "execution_count": 8,
   "id": "d30d7243-a514-4229-a2b2-5e91d7d38826",
   "metadata": {},
   "outputs": [],
   "source": [
    "data['Pick Up Date'] = pd.to_datetime(data['Pick Up Date'])"
   ]
  },
  {
   "cell_type": "code",
   "execution_count": 19,
   "id": "52bfc97d-a622-46eb-a5ba-940f0fd634f5",
   "metadata": {},
   "outputs": [
    {
     "data": {
      "image/png": "[encoded data removed]",
      "text/plain": [
       "<Figure size 1000x600 with 1 Axes>"
      ]
     },
     "metadata": {},
     "output_type": "display_data"
    }
   ],
   "source": [
    "data['Month'] = data['Pick Up Date'].dt.month\n",
    "months_data = data['Month'].value_counts().rename(index=month_mapping)\n",
    "months_data = months_data.reindex(index=list(month_mapping.values()))\n",
    "\n",
    "plt.figure(figsize=(10, 6))\n",
    "plt.bar(months_data.index, months_data.values, color='skyblue')\n",
    "plt.title('Distribution of rides by month in 2015')\n",
    "plt.xlabel('Month')\n",
    "plt.ylabel('Number of Rides')\n",
    "plt.show()"
   ]
  },
  {
   "cell_type": "markdown",
   "id": "a29e8716-a8ea-4ffd-aa98-611fd2aef0a7",
   "metadata": {},
   "source": [
    "We have the most data for April, May, June and July, slightly less for the first three months of the year, while the amount of data for August is negligible."
   ]
  },
  {
   "cell_type": "code",
   "execution_count": 10,
   "id": "b61139b9-465b-4280-b6c6-30144d797bb3",
   "metadata": {},
   "outputs": [
    {
     "data": {
      "text/html": [
       "<div>\n",
       "<style scoped>\n",
       "    .dataframe tbody tr th:only-of-type {\n",
       "        vertical-align: middle;\n",
       "    }\n",
       "\n",
       "    .dataframe tbody tr th {\n",
       "        vertical-align: top;\n",
       "    }\n",
       "\n",
       "    .dataframe thead th {\n",
       "        text-align: right;\n",
       "    }\n",
       "</style>\n",
       "<table border=\"1\" class=\"dataframe\">\n",
       "  <thead>\n",
       "    <tr style=\"text-align: right;\">\n",
       "      <th></th>\n",
       "      <th>Base Number</th>\n",
       "      <th>Base Name</th>\n",
       "      <th>Pick Up Date</th>\n",
       "      <th>Number of Trips</th>\n",
       "      <th>Number of Vehicles</th>\n",
       "      <th>Month</th>\n",
       "    </tr>\n",
       "  </thead>\n",
       "  <tbody>\n",
       "    <tr>\n",
       "      <th>0</th>\n",
       "      <td>B00013</td>\n",
       "      <td>LOVE CORP CAR INC</td>\n",
       "      <td>2015-01-01</td>\n",
       "      <td>26</td>\n",
       "      <td>17</td>\n",
       "      <td>1</td>\n",
       "    </tr>\n",
       "    <tr>\n",
       "      <th>1</th>\n",
       "      <td>B00014</td>\n",
       "      <td>NY ONE CORP CAR INC</td>\n",
       "      <td>2015-01-01</td>\n",
       "      <td>45</td>\n",
       "      <td>24</td>\n",
       "      <td>1</td>\n",
       "    </tr>\n",
       "    <tr>\n",
       "      <th>2</th>\n",
       "      <td>B00029</td>\n",
       "      <td>COMMUNITY CAR SVC CORP</td>\n",
       "      <td>2015-01-01</td>\n",
       "      <td>731</td>\n",
       "      <td>36</td>\n",
       "      <td>1</td>\n",
       "    </tr>\n",
       "    <tr>\n",
       "      <th>3</th>\n",
       "      <td>B00053</td>\n",
       "      <td>CHARGE AND RIDE INC</td>\n",
       "      <td>2015-01-01</td>\n",
       "      <td>10</td>\n",
       "      <td>9</td>\n",
       "      <td>1</td>\n",
       "    </tr>\n",
       "    <tr>\n",
       "      <th>4</th>\n",
       "      <td>B00095</td>\n",
       "      <td>LIBERTY CAR SERVICE INC.</td>\n",
       "      <td>2015-01-01</td>\n",
       "      <td>814</td>\n",
       "      <td>62</td>\n",
       "      <td>1</td>\n",
       "    </tr>\n",
       "    <tr>\n",
       "      <th>...</th>\n",
       "      <td>...</td>\n",
       "      <td>...</td>\n",
       "      <td>...</td>\n",
       "      <td>...</td>\n",
       "      <td>...</td>\n",
       "      <td>...</td>\n",
       "    </tr>\n",
       "    <tr>\n",
       "      <th>26176</th>\n",
       "      <td>B02666</td>\n",
       "      <td>D.L.C. LIMOUSINE SERVICE, INC.</td>\n",
       "      <td>2015-08-30</td>\n",
       "      <td>4</td>\n",
       "      <td>3</td>\n",
       "      <td>8</td>\n",
       "    </tr>\n",
       "    <tr>\n",
       "      <th>26177</th>\n",
       "      <td>B01313</td>\n",
       "      <td>JOY CAR SERVICES INC.</td>\n",
       "      <td>2015-08-31</td>\n",
       "      <td>14</td>\n",
       "      <td>14</td>\n",
       "      <td>8</td>\n",
       "    </tr>\n",
       "    <tr>\n",
       "      <th>26178</th>\n",
       "      <td>B01509</td>\n",
       "      <td>BRUNWISH ENTERPRISES,LTD.</td>\n",
       "      <td>2015-08-31</td>\n",
       "      <td>736</td>\n",
       "      <td>63</td>\n",
       "      <td>8</td>\n",
       "    </tr>\n",
       "    <tr>\n",
       "      <th>26179</th>\n",
       "      <td>B01614</td>\n",
       "      <td>R TRANSPORT INC</td>\n",
       "      <td>2015-08-31</td>\n",
       "      <td>45</td>\n",
       "      <td>8</td>\n",
       "      <td>8</td>\n",
       "    </tr>\n",
       "    <tr>\n",
       "      <th>26180</th>\n",
       "      <td>B02666</td>\n",
       "      <td>D.L.C. LIMOUSINE SERVICE, INC.</td>\n",
       "      <td>2015-08-31</td>\n",
       "      <td>6</td>\n",
       "      <td>6</td>\n",
       "      <td>8</td>\n",
       "    </tr>\n",
       "  </tbody>\n",
       "</table>\n",
       "<p>26181 rows × 6 columns</p>\n",
       "</div>"
      ],
      "text/plain": [
       "      Base Number                       Base Name Pick Up Date   \n",
       "0          B00013               LOVE CORP CAR INC   2015-01-01  \\\n",
       "1          B00014             NY ONE CORP CAR INC   2015-01-01   \n",
       "2          B00029          COMMUNITY CAR SVC CORP   2015-01-01   \n",
       "3          B00053             CHARGE AND RIDE INC   2015-01-01   \n",
       "4          B00095        LIBERTY CAR SERVICE INC.   2015-01-01   \n",
       "...           ...                             ...          ...   \n",
       "26176      B02666  D.L.C. LIMOUSINE SERVICE, INC.   2015-08-30   \n",
       "26177      B01313           JOY CAR SERVICES INC.   2015-08-31   \n",
       "26178      B01509       BRUNWISH ENTERPRISES,LTD.   2015-08-31   \n",
       "26179      B01614                 R TRANSPORT INC   2015-08-31   \n",
       "26180      B02666  D.L.C. LIMOUSINE SERVICE, INC.   2015-08-31   \n",
       "\n",
       "      Number of Trips Number of Vehicles  Month  \n",
       "0                 26                 17       1  \n",
       "1                 45                 24       1  \n",
       "2                731                 36       1  \n",
       "3                 10                  9       1  \n",
       "4                814                 62       1  \n",
       "...               ...                ...    ...  \n",
       "26176              4                  3       8  \n",
       "26177             14                 14       8  \n",
       "26178            736                 63       8  \n",
       "26179             45                  8       8  \n",
       "26180              6                  6       8  \n",
       "\n",
       "[26181 rows x 6 columns]"
      ]
     },
     "execution_count": 10,
     "metadata": {},
     "output_type": "execute_result"
    }
   ],
   "source": [
    "data"
   ]
  },
  {
   "cell_type": "code",
   "execution_count": 20,
   "id": "190ec39c-15c6-4ebc-b0f0-75512e4ee7ba",
   "metadata": {},
   "outputs": [
    {
     "data": {
      "image/png": "[encoded data removed]",
      "text/plain": [
       "<Figure size 1200x600 with 1 Axes>"
      ]
     },
     "metadata": {},
     "output_type": "display_data"
    }
   ],
   "source": [
    "data['Day'] = data['Pick Up Date'].dt.day\n",
    "\n",
    "days_count = data['Day'].value_counts().sort_index()\n",
    "\n",
    "days_count = days_count.reindex(range(1, 32), fill_value=0)\n",
    "\n",
    "plt.figure(figsize=(12, 6))\n",
    "plt.bar(days_count.index, days_count.values, color='teal')\n",
    "plt.title('Distribution of rides by day of the month in 2015')\n",
    "plt.xlabel('Day of the Month')\n",
    "plt.ylabel('Number of Rides')\n",
    "plt.xticks(range(1, 32))  \n",
    "plt.show()"
   ]
  },
  {
   "cell_type": "markdown",
   "id": "c8e7de65-3008-48a3-ad14-e59a44b6a65f",
   "metadata": {},
   "source": [
    "This barplot doesn't help our analysis much, because the number of rides is relatively evenly distributed by day, except of course the 31st, because not all months have 31 days."
   ]
  }
 ],
 "metadata": {
  "kernelspec": {
   "display_name": "Python 3 (ipykernel)",
   "language": "python",
   "name": "python3"
  },
  "language_info": {
   "codemirror_mode": {
    "name": "ipython",
    "version": 3
   },
   "file_extension": ".py",
   "mimetype": "text/x-python",
   "name": "python",
   "nbconvert_exporter": "python",
   "pygments_lexer": "ipython3",
   "version": "3.11.2"
  }
 },
 "nbformat": 4,
 "nbformat_minor": 5
}
