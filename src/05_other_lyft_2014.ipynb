{
 "cells": [
  {
   "cell_type": "code",
   "execution_count": 1,
   "metadata": {},
   "outputs": [],
   "source": [
    "import numpy as np\n",
    "import matplotlib.pyplot as plt\n",
    "import pandas as pd\n",
    "import seaborn as sns"
   ]
  },
  {
   "cell_type": "code",
   "execution_count": 2,
   "metadata": {},
   "outputs": [],
   "source": [
    "data = pd.read_csv('../data/other-Lyft_B02510.csv')"
   ]
  },
  {
   "cell_type": "code",
   "execution_count": 3,
   "metadata": {},
   "outputs": [
    {
     "data": {
      "text/html": [
       "<div>\n",
       "<style scoped>\n",
       "    .dataframe tbody tr th:only-of-type {\n",
       "        vertical-align: middle;\n",
       "    }\n",
       "\n",
       "    .dataframe tbody tr th {\n",
       "        vertical-align: top;\n",
       "    }\n",
       "\n",
       "    .dataframe thead th {\n",
       "        text-align: right;\n",
       "    }\n",
       "</style>\n",
       "<table border=\"1\" class=\"dataframe\">\n",
       "  <thead>\n",
       "    <tr style=\"text-align: right;\">\n",
       "      <th></th>\n",
       "      <th>time_of_trip</th>\n",
       "      <th>start_lat</th>\n",
       "      <th>start_lng</th>\n",
       "      <th>Unnamed: 3</th>\n",
       "    </tr>\n",
       "  </thead>\n",
       "  <tbody>\n",
       "    <tr>\n",
       "      <th>0</th>\n",
       "      <td>9/4/2014 9:51</td>\n",
       "      <td>40.64705</td>\n",
       "      <td>-73.77988</td>\n",
       "      <td>NaN</td>\n",
       "    </tr>\n",
       "    <tr>\n",
       "      <th>1</th>\n",
       "      <td>8/27/2014 21:13</td>\n",
       "      <td>40.74916</td>\n",
       "      <td>-73.98373</td>\n",
       "      <td>NaN</td>\n",
       "    </tr>\n",
       "    <tr>\n",
       "      <th>2</th>\n",
       "      <td>9/4/2014 14:16</td>\n",
       "      <td>40.64065</td>\n",
       "      <td>-73.97594</td>\n",
       "      <td>NaN</td>\n",
       "    </tr>\n",
       "    <tr>\n",
       "      <th>3</th>\n",
       "      <td>9/4/2014 16:08</td>\n",
       "      <td>40.75002</td>\n",
       "      <td>-73.99514</td>\n",
       "      <td>NaN</td>\n",
       "    </tr>\n",
       "    <tr>\n",
       "      <th>4</th>\n",
       "      <td>8/28/2014 2:41</td>\n",
       "      <td>40.76715</td>\n",
       "      <td>-73.98636</td>\n",
       "      <td>NaN</td>\n",
       "    </tr>\n",
       "    <tr>\n",
       "      <th>...</th>\n",
       "      <td>...</td>\n",
       "      <td>...</td>\n",
       "      <td>...</td>\n",
       "      <td>...</td>\n",
       "    </tr>\n",
       "    <tr>\n",
       "      <th>267696</th>\n",
       "      <td>9/7/2014 3:19</td>\n",
       "      <td>40.71931</td>\n",
       "      <td>-73.99138</td>\n",
       "      <td>NaN</td>\n",
       "    </tr>\n",
       "    <tr>\n",
       "      <th>267697</th>\n",
       "      <td>9/7/2014 2:59</td>\n",
       "      <td>40.73868</td>\n",
       "      <td>-73.98862</td>\n",
       "      <td>NaN</td>\n",
       "    </tr>\n",
       "    <tr>\n",
       "      <th>267698</th>\n",
       "      <td>9/7/2014 1:55</td>\n",
       "      <td>40.71554</td>\n",
       "      <td>-73.94877</td>\n",
       "      <td>NaN</td>\n",
       "    </tr>\n",
       "    <tr>\n",
       "      <th>267699</th>\n",
       "      <td>9/5/2014 23:26</td>\n",
       "      <td>40.74667</td>\n",
       "      <td>-73.97445</td>\n",
       "      <td>NaN</td>\n",
       "    </tr>\n",
       "    <tr>\n",
       "      <th>267700</th>\n",
       "      <td>9/6/2014 22:19</td>\n",
       "      <td>40.74393</td>\n",
       "      <td>-73.78011</td>\n",
       "      <td>NaN</td>\n",
       "    </tr>\n",
       "  </tbody>\n",
       "</table>\n",
       "<p>267701 rows × 4 columns</p>\n",
       "</div>"
      ],
      "text/plain": [
       "           time_of_trip  start_lat  start_lng Unnamed: 3\n",
       "0         9/4/2014 9:51   40.64705  -73.77988        NaN\n",
       "1       8/27/2014 21:13   40.74916  -73.98373        NaN\n",
       "2        9/4/2014 14:16   40.64065  -73.97594        NaN\n",
       "3        9/4/2014 16:08   40.75002  -73.99514        NaN\n",
       "4        8/28/2014 2:41   40.76715  -73.98636        NaN\n",
       "...                 ...        ...        ...        ...\n",
       "267696    9/7/2014 3:19   40.71931  -73.99138        NaN\n",
       "267697    9/7/2014 2:59   40.73868  -73.98862        NaN\n",
       "267698    9/7/2014 1:55   40.71554  -73.94877        NaN\n",
       "267699   9/5/2014 23:26   40.74667  -73.97445        NaN\n",
       "267700   9/6/2014 22:19   40.74393  -73.78011        NaN\n",
       "\n",
       "[267701 rows x 4 columns]"
      ]
     },
     "execution_count": 3,
     "metadata": {},
     "output_type": "execute_result"
    }
   ],
   "source": [
    "data"
   ]
  },
  {
   "cell_type": "code",
   "execution_count": 4,
   "metadata": {},
   "outputs": [],
   "source": [
    "data = data.drop('Unnamed: 3', axis = 1)"
   ]
  },
  {
   "cell_type": "code",
   "execution_count": 5,
   "metadata": {},
   "outputs": [
    {
     "data": {
      "text/html": [
       "<div>\n",
       "<style scoped>\n",
       "    .dataframe tbody tr th:only-of-type {\n",
       "        vertical-align: middle;\n",
       "    }\n",
       "\n",
       "    .dataframe tbody tr th {\n",
       "        vertical-align: top;\n",
       "    }\n",
       "\n",
       "    .dataframe thead th {\n",
       "        text-align: right;\n",
       "    }\n",
       "</style>\n",
       "<table border=\"1\" class=\"dataframe\">\n",
       "  <thead>\n",
       "    <tr style=\"text-align: right;\">\n",
       "      <th></th>\n",
       "      <th>time_of_trip</th>\n",
       "      <th>start_lat</th>\n",
       "      <th>start_lng</th>\n",
       "    </tr>\n",
       "  </thead>\n",
       "  <tbody>\n",
       "    <tr>\n",
       "      <th>0</th>\n",
       "      <td>9/4/2014 9:51</td>\n",
       "      <td>40.64705</td>\n",
       "      <td>-73.77988</td>\n",
       "    </tr>\n",
       "    <tr>\n",
       "      <th>1</th>\n",
       "      <td>8/27/2014 21:13</td>\n",
       "      <td>40.74916</td>\n",
       "      <td>-73.98373</td>\n",
       "    </tr>\n",
       "    <tr>\n",
       "      <th>2</th>\n",
       "      <td>9/4/2014 14:16</td>\n",
       "      <td>40.64065</td>\n",
       "      <td>-73.97594</td>\n",
       "    </tr>\n",
       "    <tr>\n",
       "      <th>3</th>\n",
       "      <td>9/4/2014 16:08</td>\n",
       "      <td>40.75002</td>\n",
       "      <td>-73.99514</td>\n",
       "    </tr>\n",
       "    <tr>\n",
       "      <th>4</th>\n",
       "      <td>8/28/2014 2:41</td>\n",
       "      <td>40.76715</td>\n",
       "      <td>-73.98636</td>\n",
       "    </tr>\n",
       "    <tr>\n",
       "      <th>...</th>\n",
       "      <td>...</td>\n",
       "      <td>...</td>\n",
       "      <td>...</td>\n",
       "    </tr>\n",
       "    <tr>\n",
       "      <th>267696</th>\n",
       "      <td>9/7/2014 3:19</td>\n",
       "      <td>40.71931</td>\n",
       "      <td>-73.99138</td>\n",
       "    </tr>\n",
       "    <tr>\n",
       "      <th>267697</th>\n",
       "      <td>9/7/2014 2:59</td>\n",
       "      <td>40.73868</td>\n",
       "      <td>-73.98862</td>\n",
       "    </tr>\n",
       "    <tr>\n",
       "      <th>267698</th>\n",
       "      <td>9/7/2014 1:55</td>\n",
       "      <td>40.71554</td>\n",
       "      <td>-73.94877</td>\n",
       "    </tr>\n",
       "    <tr>\n",
       "      <th>267699</th>\n",
       "      <td>9/5/2014 23:26</td>\n",
       "      <td>40.74667</td>\n",
       "      <td>-73.97445</td>\n",
       "    </tr>\n",
       "    <tr>\n",
       "      <th>267700</th>\n",
       "      <td>9/6/2014 22:19</td>\n",
       "      <td>40.74393</td>\n",
       "      <td>-73.78011</td>\n",
       "    </tr>\n",
       "  </tbody>\n",
       "</table>\n",
       "<p>267701 rows × 3 columns</p>\n",
       "</div>"
      ],
      "text/plain": [
       "           time_of_trip  start_lat  start_lng\n",
       "0         9/4/2014 9:51   40.64705  -73.77988\n",
       "1       8/27/2014 21:13   40.74916  -73.98373\n",
       "2        9/4/2014 14:16   40.64065  -73.97594\n",
       "3        9/4/2014 16:08   40.75002  -73.99514\n",
       "4        8/28/2014 2:41   40.76715  -73.98636\n",
       "...                 ...        ...        ...\n",
       "267696    9/7/2014 3:19   40.71931  -73.99138\n",
       "267697    9/7/2014 2:59   40.73868  -73.98862\n",
       "267698    9/7/2014 1:55   40.71554  -73.94877\n",
       "267699   9/5/2014 23:26   40.74667  -73.97445\n",
       "267700   9/6/2014 22:19   40.74393  -73.78011\n",
       "\n",
       "[267701 rows x 3 columns]"
      ]
     },
     "execution_count": 5,
     "metadata": {},
     "output_type": "execute_result"
    }
   ],
   "source": [
    "data"
   ]
  },
  {
   "cell_type": "code",
   "execution_count": 6,
   "metadata": {},
   "outputs": [],
   "source": [
    "data['time_of_trip'] = pd.to_datetime(data['time_of_trip'], format='%m/%d/%Y %H:%M')\n",
    "\n",
    "data['day'] = data['time_of_trip'].dt.day_name()\n",
    "data['month'] = data['time_of_trip'].dt.month_name()\n",
    "data['hour'] = data['time_of_trip'].dt.hour"
   ]
  },
  {
   "cell_type": "code",
   "execution_count": 7,
   "metadata": {},
   "outputs": [
    {
     "data": {
      "text/html": [
       "<div>\n",
       "<style scoped>\n",
       "    .dataframe tbody tr th:only-of-type {\n",
       "        vertical-align: middle;\n",
       "    }\n",
       "\n",
       "    .dataframe tbody tr th {\n",
       "        vertical-align: top;\n",
       "    }\n",
       "\n",
       "    .dataframe thead th {\n",
       "        text-align: right;\n",
       "    }\n",
       "</style>\n",
       "<table border=\"1\" class=\"dataframe\">\n",
       "  <thead>\n",
       "    <tr style=\"text-align: right;\">\n",
       "      <th></th>\n",
       "      <th>time_of_trip</th>\n",
       "      <th>start_lat</th>\n",
       "      <th>start_lng</th>\n",
       "      <th>day</th>\n",
       "      <th>month</th>\n",
       "      <th>hour</th>\n",
       "    </tr>\n",
       "  </thead>\n",
       "  <tbody>\n",
       "    <tr>\n",
       "      <th>0</th>\n",
       "      <td>2014-09-04 09:51:00</td>\n",
       "      <td>40.64705</td>\n",
       "      <td>-73.77988</td>\n",
       "      <td>Thursday</td>\n",
       "      <td>September</td>\n",
       "      <td>9</td>\n",
       "    </tr>\n",
       "    <tr>\n",
       "      <th>1</th>\n",
       "      <td>2014-08-27 21:13:00</td>\n",
       "      <td>40.74916</td>\n",
       "      <td>-73.98373</td>\n",
       "      <td>Wednesday</td>\n",
       "      <td>August</td>\n",
       "      <td>21</td>\n",
       "    </tr>\n",
       "    <tr>\n",
       "      <th>2</th>\n",
       "      <td>2014-09-04 14:16:00</td>\n",
       "      <td>40.64065</td>\n",
       "      <td>-73.97594</td>\n",
       "      <td>Thursday</td>\n",
       "      <td>September</td>\n",
       "      <td>14</td>\n",
       "    </tr>\n",
       "    <tr>\n",
       "      <th>3</th>\n",
       "      <td>2014-09-04 16:08:00</td>\n",
       "      <td>40.75002</td>\n",
       "      <td>-73.99514</td>\n",
       "      <td>Thursday</td>\n",
       "      <td>September</td>\n",
       "      <td>16</td>\n",
       "    </tr>\n",
       "    <tr>\n",
       "      <th>4</th>\n",
       "      <td>2014-08-28 02:41:00</td>\n",
       "      <td>40.76715</td>\n",
       "      <td>-73.98636</td>\n",
       "      <td>Thursday</td>\n",
       "      <td>August</td>\n",
       "      <td>2</td>\n",
       "    </tr>\n",
       "    <tr>\n",
       "      <th>...</th>\n",
       "      <td>...</td>\n",
       "      <td>...</td>\n",
       "      <td>...</td>\n",
       "      <td>...</td>\n",
       "      <td>...</td>\n",
       "      <td>...</td>\n",
       "    </tr>\n",
       "    <tr>\n",
       "      <th>267696</th>\n",
       "      <td>2014-09-07 03:19:00</td>\n",
       "      <td>40.71931</td>\n",
       "      <td>-73.99138</td>\n",
       "      <td>Sunday</td>\n",
       "      <td>September</td>\n",
       "      <td>3</td>\n",
       "    </tr>\n",
       "    <tr>\n",
       "      <th>267697</th>\n",
       "      <td>2014-09-07 02:59:00</td>\n",
       "      <td>40.73868</td>\n",
       "      <td>-73.98862</td>\n",
       "      <td>Sunday</td>\n",
       "      <td>September</td>\n",
       "      <td>2</td>\n",
       "    </tr>\n",
       "    <tr>\n",
       "      <th>267698</th>\n",
       "      <td>2014-09-07 01:55:00</td>\n",
       "      <td>40.71554</td>\n",
       "      <td>-73.94877</td>\n",
       "      <td>Sunday</td>\n",
       "      <td>September</td>\n",
       "      <td>1</td>\n",
       "    </tr>\n",
       "    <tr>\n",
       "      <th>267699</th>\n",
       "      <td>2014-09-05 23:26:00</td>\n",
       "      <td>40.74667</td>\n",
       "      <td>-73.97445</td>\n",
       "      <td>Friday</td>\n",
       "      <td>September</td>\n",
       "      <td>23</td>\n",
       "    </tr>\n",
       "    <tr>\n",
       "      <th>267700</th>\n",
       "      <td>2014-09-06 22:19:00</td>\n",
       "      <td>40.74393</td>\n",
       "      <td>-73.78011</td>\n",
       "      <td>Saturday</td>\n",
       "      <td>September</td>\n",
       "      <td>22</td>\n",
       "    </tr>\n",
       "  </tbody>\n",
       "</table>\n",
       "<p>267701 rows × 6 columns</p>\n",
       "</div>"
      ],
      "text/plain": [
       "              time_of_trip  start_lat  start_lng        day      month  hour\n",
       "0      2014-09-04 09:51:00   40.64705  -73.77988   Thursday  September     9\n",
       "1      2014-08-27 21:13:00   40.74916  -73.98373  Wednesday     August    21\n",
       "2      2014-09-04 14:16:00   40.64065  -73.97594   Thursday  September    14\n",
       "3      2014-09-04 16:08:00   40.75002  -73.99514   Thursday  September    16\n",
       "4      2014-08-28 02:41:00   40.76715  -73.98636   Thursday     August     2\n",
       "...                    ...        ...        ...        ...        ...   ...\n",
       "267696 2014-09-07 03:19:00   40.71931  -73.99138     Sunday  September     3\n",
       "267697 2014-09-07 02:59:00   40.73868  -73.98862     Sunday  September     2\n",
       "267698 2014-09-07 01:55:00   40.71554  -73.94877     Sunday  September     1\n",
       "267699 2014-09-05 23:26:00   40.74667  -73.97445     Friday  September    23\n",
       "267700 2014-09-06 22:19:00   40.74393  -73.78011   Saturday  September    22\n",
       "\n",
       "[267701 rows x 6 columns]"
      ]
     },
     "execution_count": 7,
     "metadata": {},
     "output_type": "execute_result"
    }
   ],
   "source": [
    "data"
   ]
  },
  {
   "cell_type": "code",
   "execution_count": 8,
   "metadata": {},
   "outputs": [
    {
     "data": {
      "text/plain": [
       "array(['September', 'August', 'July'], dtype=object)"
      ]
     },
     "execution_count": 8,
     "metadata": {},
     "output_type": "execute_result"
    }
   ],
   "source": [
    "data['month'].unique()"
   ]
  },
  {
   "cell_type": "code",
   "execution_count": 9,
   "metadata": {},
   "outputs": [
    {
     "data": {
      "text/plain": [
       "array(['Thursday', 'Wednesday', 'Saturday', 'Friday', 'Monday', 'Sunday',\n",
       "       'Tuesday'], dtype=object)"
      ]
     },
     "execution_count": 9,
     "metadata": {},
     "output_type": "execute_result"
    }
   ],
   "source": [
    "data['day'].unique()"
   ]
  },
  {
   "cell_type": "code",
   "execution_count": 10,
   "metadata": {},
   "outputs": [
    {
     "name": "stderr",
     "output_type": "stream",
     "text": [
      "C:\\Users\\mmarkovic\\AppData\\Local\\Temp\\ipykernel_3196\\2654986772.py:11: UserWarning: FigureCanvasAgg is non-interactive, and thus cannot be shown\n",
      "  plt.show()\n"
     ]
    }
   ],
   "source": [
    "monthly_data = data.groupby('month').size()\n",
    "\n",
    "monthly_data = monthly_data.reindex([\"July\", \"August\", \"September\"])\n",
    "\n",
    "plt.figure(figsize=(10, 6))\n",
    "sns.barplot(x=monthly_data.index, y=monthly_data.values, palette=\"coolwarm\", hue=monthly_data.index, legend=False)\n",
    "plt.title('Number of trips by month')\n",
    "plt.xlabel('Month')\n",
    "plt.ylabel('Number of trips')\n",
    "plt.xticks(rotation=45)\n",
    "plt.show()"
   ]
  },
  {
   "cell_type": "markdown",
   "metadata": {},
   "source": [
    "\n",
    "The smallest amount of data is present for July, and the largest for August. However, one should not draw conclusions that there were drastically fewer rides in July, since probably not enough data was collected for that month."
   ]
  },
  {
   "cell_type": "code",
   "execution_count": 11,
   "metadata": {},
   "outputs": [
    {
     "name": "stderr",
     "output_type": "stream",
     "text": [
      "C:\\Users\\mmarkovic\\AppData\\Local\\Temp\\ipykernel_3196\\3807831020.py:11: UserWarning: FigureCanvasAgg is non-interactive, and thus cannot be shown\n",
      "  plt.show()\n"
     ]
    }
   ],
   "source": [
    "daily_data = data.groupby('day').size()\n",
    "\n",
    "daily_data = daily_data.reindex([\"Monday\", \"Tuesday\", \"Wednesday\", \"Thursday\", \"Friday\", \"Saturday\", \"Sunday\"])\n",
    "\n",
    "plt.figure(figsize=(10, 6))\n",
    "sns.barplot(x=daily_data.index, y=daily_data.values, palette=\"coolwarm\", hue=daily_data.index, legend=False)\n",
    "plt.title('Number of trips by day')\n",
    "plt.xlabel('Day')\n",
    "plt.ylabel('Number of trips')\n",
    "plt.xticks(rotation=45)\n",
    "plt.show()"
   ]
  },
  {
   "cell_type": "markdown",
   "metadata": {},
   "source": [
    "The chart indicates a significant increase in Lyft pickups during the weekend, with Saturday and Sunday showing the highest numbers. This suggests that people are more likely to use ride-sharing services during the weekend, possibly due to social events, leisure activities, or nightlife, where public transportation options may be less convenient or available.\n",
    "\n",
    "From Monday to Wednesday, the number of trips remains relatively consistent, with a gradual increase starting from Thursday. Friday shows a notable increase in pickups compared to the earlier weekdays. This might be indicative of a transition period where people begin to engage in weekend activities or travel to different locations after the workweek ends.\n",
    "\n",
    "For Lyft, understanding these patterns is crucial for resource allocation. It may be beneficial to deploy more drivers and resources during weekends and Thursday/Friday evenings to meet the increased demand. Conversely, maintaining an optimal yet efficient service during lower demand periods like Monday to Wednesday could help manage costs."
   ]
  },
  {
   "cell_type": "code",
   "execution_count": 12,
   "metadata": {},
   "outputs": [
    {
     "name": "stderr",
     "output_type": "stream",
     "text": [
      "C:\\Users\\mmarkovic\\AppData\\Local\\Temp\\ipykernel_3196\\2661297354.py:9: UserWarning: FigureCanvasAgg is non-interactive, and thus cannot be shown\n",
      "  plt.show()\n"
     ]
    }
   ],
   "source": [
    "hourly_data = data.groupby('hour').size()\n",
    "\n",
    "plt.figure(figsize=(10, 6))\n",
    "sns.barplot(x=hourly_data.index, y=hourly_data.values, palette=\"coolwarm\", hue=hourly_data.index, legend=False)\n",
    "plt.title('Number of trips by hour')\n",
    "plt.xlabel('Hour')\n",
    "plt.ylabel('Number of trips')\n",
    "plt.xticks(rotation=45)\n",
    "plt.show()"
   ]
  },
  {
   "cell_type": "markdown",
   "metadata": {},
   "source": [
    "The data shows a significant number of trips during the late-night hours, particularly around midnight (00:00) and continuing into the early morning hours (01:00 - 03:00). This peak can be attributed to late-night activities such as people returning home from social events, nightlife, or after-hours work shifts. This suggests a strong demand for Lyft services during these times, likely due to the limited availability of public transportation.\n",
    "There is a notable rise in Lyft pickups starting from 18:00, reaching a peak at 23:00. This evening increase is likely driven by a combination of factors: people heading home from work, going out for dinner, attending evening events, etc. The highest numbers are observed around 23:00, possibly reflecting the time when people are wrapping up their evening activities and heading home."
   ]
  },
  {
   "cell_type": "code",
   "execution_count": 13,
   "metadata": {},
   "outputs": [
    {
     "name": "stderr",
     "output_type": "stream",
     "text": [
      "C:\\Users\\mmarkovic\\AppData\\Local\\Temp\\ipykernel_3196\\3377989766.py:11: UserWarning: FigureCanvasAgg is non-interactive, and thus cannot be shown\n",
      "  plt.show()\n"
     ]
    }
   ],
   "source": [
    "weekend_data = data[data['day'].isin(['Saturday', 'Sunday'])]\n",
    "\n",
    "hourly_pickups = weekend_data.groupby('hour').size()\n",
    "\n",
    "plt.figure(figsize=(10, 6))\n",
    "sns.barplot(x=hourly_pickups.index, y=hourly_pickups.values, palette=\"coolwarm\", hue=hourly_pickups.index, legend=False)\n",
    "plt.title('Number of Trips by Hour for the Weekend')\n",
    "plt.xlabel('Hour')\n",
    "plt.ylabel('Number of Trips')\n",
    "plt.xticks(rotation=0)\n",
    "plt.show()"
   ]
  },
  {
   "cell_type": "code",
   "execution_count": 14,
   "metadata": {},
   "outputs": [
    {
     "name": "stderr",
     "output_type": "stream",
     "text": [
      "C:\\Users\\mmarkovic\\AppData\\Local\\Temp\\ipykernel_3196\\3682877126.py:11: UserWarning: FigureCanvasAgg is non-interactive, and thus cannot be shown\n",
      "  plt.show()\n"
     ]
    }
   ],
   "source": [
    "weekend_data = data[data['day'].isin(['Monday', 'Tuesday', 'Wednesday', 'Thursday', 'Friday'])]\n",
    "\n",
    "hourly_pickups = weekend_data.groupby('hour').size()\n",
    "\n",
    "plt.figure(figsize=(10, 6))\n",
    "sns.barplot(x=hourly_pickups.index, y=hourly_pickups.values, palette=\"coolwarm\", hue=hourly_pickups.index, legend=False)\n",
    "plt.title('Number of trips by hour for the weekdays')\n",
    "plt.xlabel('Hour')\n",
    "plt.ylabel('Number of trips')\n",
    "plt.xticks(rotation=0)\n",
    "plt.show()"
   ]
  },
  {
   "cell_type": "markdown",
   "metadata": {},
   "source": [
    "Let's look at how ride numbers change by hour during weekends compared to weekdays. The overall pattern is similar, but on weekends, there are more rides from midnight to early morning, while on weekdays, most rides happen in the late evening, which is expected."
   ]
  },
  {
   "cell_type": "code",
   "execution_count": 15,
   "metadata": {},
   "outputs": [],
   "source": [
    "Longitudes = data['start_lng'].values\n",
    "Latitudes  = data['start_lat'].values"
   ]
  }
 ],
 "metadata": {
  "kernelspec": {
   "display_name": "Python 3 (ipykernel)",
   "language": "python",
   "name": "python3"
  },
  "language_info": {
   "codemirror_mode": {
    "name": "ipython",
    "version": 3
   },
   "file_extension": ".py",
   "mimetype": "text/x-python",
   "name": "python",
   "nbconvert_exporter": "python",
   "pygments_lexer": "ipython3",
   "version": "3.11.2"
  }
 },
 "nbformat": 4,
 "nbformat_minor": 4
}
