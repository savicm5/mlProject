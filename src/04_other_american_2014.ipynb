{
 "cells": [
  {
   "cell_type": "code",
   "execution_count": 1,
   "metadata": {},
   "outputs": [],
   "source": [
    "import pandas as pd\n",
    "import numpy as np\n",
    "import matplotlib.pyplot as plt\n",
    "from plot_rides import plot_rides_by_day, plot_rides_by_hour, plot_rides_by_month\n",
    "from extract_data import extract_hour_day_month"
   ]
  },
  {
   "cell_type": "code",
   "execution_count": 2,
   "metadata": {},
   "outputs": [],
   "source": [
    "data = pd.read_csv('../data/other-American_B01362.csv')"
   ]
  },
  {
   "cell_type": "code",
   "execution_count": 3,
   "metadata": {},
   "outputs": [
    {
     "data": {
      "text/html": [
       "<div>\n",
       "<style scoped>\n",
       "    .dataframe tbody tr th:only-of-type {\n",
       "        vertical-align: middle;\n",
       "    }\n",
       "\n",
       "    .dataframe tbody tr th {\n",
       "        vertical-align: top;\n",
       "    }\n",
       "\n",
       "    .dataframe thead th {\n",
       "        text-align: right;\n",
       "    }\n",
       "</style>\n",
       "<table border=\"1\" class=\"dataframe\">\n",
       "  <thead>\n",
       "    <tr style=\"text-align: right;\">\n",
       "      <th></th>\n",
       "      <th>DATE</th>\n",
       "      <th>TIME</th>\n",
       "      <th>PICK UP ADDRESS</th>\n",
       "      <th>Unnamed: 3</th>\n",
       "      <th>Unnamed: 4</th>\n",
       "      <th>Unnamed: 5</th>\n",
       "    </tr>\n",
       "  </thead>\n",
       "  <tbody>\n",
       "    <tr>\n",
       "      <th>0</th>\n",
       "      <td>7/1/2014</td>\n",
       "      <td>12:00:00 AM</td>\n",
       "      <td>874 E 139th St Mott Haven, BX</td>\n",
       "      <td>NaN</td>\n",
       "      <td>NaN</td>\n",
       "      <td>NaN</td>\n",
       "    </tr>\n",
       "    <tr>\n",
       "      <th>1</th>\n",
       "      <td>7/1/2014</td>\n",
       "      <td>12:01:00 AM</td>\n",
       "      <td>628 E 141st St Mott Haven, BX</td>\n",
       "      <td>NaN</td>\n",
       "      <td>NaN</td>\n",
       "      <td>NaN</td>\n",
       "    </tr>\n",
       "    <tr>\n",
       "      <th>2</th>\n",
       "      <td>7/1/2014</td>\n",
       "      <td>12:01:00 AM</td>\n",
       "      <td>601 E 156th St South Bronx, BX</td>\n",
       "      <td>NaN</td>\n",
       "      <td>NaN</td>\n",
       "      <td>NaN</td>\n",
       "    </tr>\n",
       "    <tr>\n",
       "      <th>3</th>\n",
       "      <td>7/1/2014</td>\n",
       "      <td>12:01:00 AM</td>\n",
       "      <td>708 E 138th St Mott Haven, BX</td>\n",
       "      <td>NaN</td>\n",
       "      <td>NaN</td>\n",
       "      <td>NaN</td>\n",
       "    </tr>\n",
       "    <tr>\n",
       "      <th>4</th>\n",
       "      <td>7/1/2014</td>\n",
       "      <td>12:02:00 AM</td>\n",
       "      <td>700 E 140th St Mott Haven, BX</td>\n",
       "      <td>NaN</td>\n",
       "      <td>NaN</td>\n",
       "      <td>NaN</td>\n",
       "    </tr>\n",
       "    <tr>\n",
       "      <th>...</th>\n",
       "      <td>...</td>\n",
       "      <td>...</td>\n",
       "      <td>...</td>\n",
       "      <td>...</td>\n",
       "      <td>...</td>\n",
       "      <td>...</td>\n",
       "    </tr>\n",
       "    <tr>\n",
       "      <th>91707</th>\n",
       "      <td>9/30/2014</td>\n",
       "      <td>11:47:00 PM</td>\n",
       "      <td>593 Oak Ter Mott Haven, BX</td>\n",
       "      <td>NaN</td>\n",
       "      <td>NaN</td>\n",
       "      <td>NaN</td>\n",
       "    </tr>\n",
       "    <tr>\n",
       "      <th>91708</th>\n",
       "      <td>9/30/2014</td>\n",
       "      <td>11:48:00 PM</td>\n",
       "      <td>645 Westchester Ave South Bronx, BX</td>\n",
       "      <td>NaN</td>\n",
       "      <td>NaN</td>\n",
       "      <td>NaN</td>\n",
       "    </tr>\n",
       "    <tr>\n",
       "      <th>91709</th>\n",
       "      <td>9/30/2014</td>\n",
       "      <td>11:51:00 PM</td>\n",
       "      <td>625 Tinton Ave South Bronx, BX</td>\n",
       "      <td>NaN</td>\n",
       "      <td>NaN</td>\n",
       "      <td>NaN</td>\n",
       "    </tr>\n",
       "    <tr>\n",
       "      <th>91710</th>\n",
       "      <td>9/30/2014</td>\n",
       "      <td>11:54:00 PM</td>\n",
       "      <td>350 Saint Anns Ave Mott Haven, BX</td>\n",
       "      <td>NaN</td>\n",
       "      <td>NaN</td>\n",
       "      <td>NaN</td>\n",
       "    </tr>\n",
       "    <tr>\n",
       "      <th>91711</th>\n",
       "      <td>9/30/2014</td>\n",
       "      <td>11:58:00 PM</td>\n",
       "      <td>846 Tinton Ave Morrisania, BX</td>\n",
       "      <td>NaN</td>\n",
       "      <td>NaN</td>\n",
       "      <td>NaN</td>\n",
       "    </tr>\n",
       "  </tbody>\n",
       "</table>\n",
       "<p>91712 rows × 6 columns</p>\n",
       "</div>"
      ],
      "text/plain": [
       "            DATE         TIME                       PICK UP ADDRESS  \\\n",
       "0       7/1/2014  12:00:00 AM         874 E 139th St Mott Haven, BX   \n",
       "1       7/1/2014  12:01:00 AM         628 E 141st St Mott Haven, BX   \n",
       "2       7/1/2014  12:01:00 AM        601 E 156th St South Bronx, BX   \n",
       "3       7/1/2014  12:01:00 AM         708 E 138th St Mott Haven, BX   \n",
       "4       7/1/2014  12:02:00 AM         700 E 140th St Mott Haven, BX   \n",
       "...          ...          ...                                   ...   \n",
       "91707  9/30/2014  11:47:00 PM            593 Oak Ter Mott Haven, BX   \n",
       "91708  9/30/2014  11:48:00 PM   645 Westchester Ave South Bronx, BX   \n",
       "91709  9/30/2014  11:51:00 PM        625 Tinton Ave South Bronx, BX   \n",
       "91710  9/30/2014  11:54:00 PM     350 Saint Anns Ave Mott Haven, BX   \n",
       "91711  9/30/2014  11:58:00 PM         846 Tinton Ave Morrisania, BX   \n",
       "\n",
       "       Unnamed: 3  Unnamed: 4  Unnamed: 5  \n",
       "0             NaN         NaN         NaN  \n",
       "1             NaN         NaN         NaN  \n",
       "2             NaN         NaN         NaN  \n",
       "3             NaN         NaN         NaN  \n",
       "4             NaN         NaN         NaN  \n",
       "...           ...         ...         ...  \n",
       "91707         NaN         NaN         NaN  \n",
       "91708         NaN         NaN         NaN  \n",
       "91709         NaN         NaN         NaN  \n",
       "91710         NaN         NaN         NaN  \n",
       "91711         NaN         NaN         NaN  \n",
       "\n",
       "[91712 rows x 6 columns]"
      ]
     },
     "execution_count": 3,
     "metadata": {},
     "output_type": "execute_result"
    }
   ],
   "source": [
    "data"
   ]
  },
  {
   "cell_type": "code",
   "execution_count": 4,
   "metadata": {},
   "outputs": [],
   "source": [
    "data = data.drop(['Unnamed: 3', 'Unnamed: 4', 'Unnamed: 5'], axis=1)"
   ]
  },
  {
   "cell_type": "code",
   "execution_count": 5,
   "metadata": {},
   "outputs": [
    {
     "data": {
      "text/html": [
       "<div>\n",
       "<style scoped>\n",
       "    .dataframe tbody tr th:only-of-type {\n",
       "        vertical-align: middle;\n",
       "    }\n",
       "\n",
       "    .dataframe tbody tr th {\n",
       "        vertical-align: top;\n",
       "    }\n",
       "\n",
       "    .dataframe thead th {\n",
       "        text-align: right;\n",
       "    }\n",
       "</style>\n",
       "<table border=\"1\" class=\"dataframe\">\n",
       "  <thead>\n",
       "    <tr style=\"text-align: right;\">\n",
       "      <th></th>\n",
       "      <th>DATE</th>\n",
       "      <th>TIME</th>\n",
       "      <th>PICK UP ADDRESS</th>\n",
       "    </tr>\n",
       "  </thead>\n",
       "  <tbody>\n",
       "    <tr>\n",
       "      <th>0</th>\n",
       "      <td>7/1/2014</td>\n",
       "      <td>12:00:00 AM</td>\n",
       "      <td>874 E 139th St Mott Haven, BX</td>\n",
       "    </tr>\n",
       "    <tr>\n",
       "      <th>1</th>\n",
       "      <td>7/1/2014</td>\n",
       "      <td>12:01:00 AM</td>\n",
       "      <td>628 E 141st St Mott Haven, BX</td>\n",
       "    </tr>\n",
       "    <tr>\n",
       "      <th>2</th>\n",
       "      <td>7/1/2014</td>\n",
       "      <td>12:01:00 AM</td>\n",
       "      <td>601 E 156th St South Bronx, BX</td>\n",
       "    </tr>\n",
       "    <tr>\n",
       "      <th>3</th>\n",
       "      <td>7/1/2014</td>\n",
       "      <td>12:01:00 AM</td>\n",
       "      <td>708 E 138th St Mott Haven, BX</td>\n",
       "    </tr>\n",
       "    <tr>\n",
       "      <th>4</th>\n",
       "      <td>7/1/2014</td>\n",
       "      <td>12:02:00 AM</td>\n",
       "      <td>700 E 140th St Mott Haven, BX</td>\n",
       "    </tr>\n",
       "    <tr>\n",
       "      <th>...</th>\n",
       "      <td>...</td>\n",
       "      <td>...</td>\n",
       "      <td>...</td>\n",
       "    </tr>\n",
       "    <tr>\n",
       "      <th>91707</th>\n",
       "      <td>9/30/2014</td>\n",
       "      <td>11:47:00 PM</td>\n",
       "      <td>593 Oak Ter Mott Haven, BX</td>\n",
       "    </tr>\n",
       "    <tr>\n",
       "      <th>91708</th>\n",
       "      <td>9/30/2014</td>\n",
       "      <td>11:48:00 PM</td>\n",
       "      <td>645 Westchester Ave South Bronx, BX</td>\n",
       "    </tr>\n",
       "    <tr>\n",
       "      <th>91709</th>\n",
       "      <td>9/30/2014</td>\n",
       "      <td>11:51:00 PM</td>\n",
       "      <td>625 Tinton Ave South Bronx, BX</td>\n",
       "    </tr>\n",
       "    <tr>\n",
       "      <th>91710</th>\n",
       "      <td>9/30/2014</td>\n",
       "      <td>11:54:00 PM</td>\n",
       "      <td>350 Saint Anns Ave Mott Haven, BX</td>\n",
       "    </tr>\n",
       "    <tr>\n",
       "      <th>91711</th>\n",
       "      <td>9/30/2014</td>\n",
       "      <td>11:58:00 PM</td>\n",
       "      <td>846 Tinton Ave Morrisania, BX</td>\n",
       "    </tr>\n",
       "  </tbody>\n",
       "</table>\n",
       "<p>91712 rows × 3 columns</p>\n",
       "</div>"
      ],
      "text/plain": [
       "            DATE         TIME                       PICK UP ADDRESS\n",
       "0       7/1/2014  12:00:00 AM         874 E 139th St Mott Haven, BX\n",
       "1       7/1/2014  12:01:00 AM         628 E 141st St Mott Haven, BX\n",
       "2       7/1/2014  12:01:00 AM        601 E 156th St South Bronx, BX\n",
       "3       7/1/2014  12:01:00 AM         708 E 138th St Mott Haven, BX\n",
       "4       7/1/2014  12:02:00 AM         700 E 140th St Mott Haven, BX\n",
       "...          ...          ...                                   ...\n",
       "91707  9/30/2014  11:47:00 PM            593 Oak Ter Mott Haven, BX\n",
       "91708  9/30/2014  11:48:00 PM   645 Westchester Ave South Bronx, BX\n",
       "91709  9/30/2014  11:51:00 PM        625 Tinton Ave South Bronx, BX\n",
       "91710  9/30/2014  11:54:00 PM     350 Saint Anns Ave Mott Haven, BX\n",
       "91711  9/30/2014  11:58:00 PM         846 Tinton Ave Morrisania, BX\n",
       "\n",
       "[91712 rows x 3 columns]"
      ]
     },
     "execution_count": 5,
     "metadata": {},
     "output_type": "execute_result"
    }
   ],
   "source": [
    "data"
   ]
  },
  {
   "cell_type": "code",
   "execution_count": 6,
   "metadata": {},
   "outputs": [],
   "source": [
    "data['DATETIME'] = pd.to_datetime(data['DATE'] + ' ' + data['TIME'], format='%m/%d/%Y %I:%M:%S %p')\n",
    "data.rename(columns={'DATETIME': 'Date/Time'}, inplace=True)\n",
    "data = data.drop(['DATE', 'TIME'], axis = 1)\n",
    "\n",
    "extract_hour_day_month(data)     \n"
   ]
  },
  {
   "cell_type": "code",
   "execution_count": 7,
   "metadata": {},
   "outputs": [
    {
     "data": {
      "text/html": [
       "<div>\n",
       "<style scoped>\n",
       "    .dataframe tbody tr th:only-of-type {\n",
       "        vertical-align: middle;\n",
       "    }\n",
       "\n",
       "    .dataframe tbody tr th {\n",
       "        vertical-align: top;\n",
       "    }\n",
       "\n",
       "    .dataframe thead th {\n",
       "        text-align: right;\n",
       "    }\n",
       "</style>\n",
       "<table border=\"1\" class=\"dataframe\">\n",
       "  <thead>\n",
       "    <tr style=\"text-align: right;\">\n",
       "      <th></th>\n",
       "      <th>PICK UP ADDRESS</th>\n",
       "      <th>Date/Time</th>\n",
       "      <th>Hour</th>\n",
       "      <th>Month</th>\n",
       "      <th>Day</th>\n",
       "      <th>DayOfWeek</th>\n",
       "    </tr>\n",
       "  </thead>\n",
       "  <tbody>\n",
       "    <tr>\n",
       "      <th>0</th>\n",
       "      <td>874 E 139th St Mott Haven, BX</td>\n",
       "      <td>2014-07-01 00:00:00</td>\n",
       "      <td>0</td>\n",
       "      <td>July</td>\n",
       "      <td>1</td>\n",
       "      <td>Tuesday</td>\n",
       "    </tr>\n",
       "    <tr>\n",
       "      <th>1</th>\n",
       "      <td>628 E 141st St Mott Haven, BX</td>\n",
       "      <td>2014-07-01 00:01:00</td>\n",
       "      <td>0</td>\n",
       "      <td>July</td>\n",
       "      <td>1</td>\n",
       "      <td>Tuesday</td>\n",
       "    </tr>\n",
       "    <tr>\n",
       "      <th>2</th>\n",
       "      <td>601 E 156th St South Bronx, BX</td>\n",
       "      <td>2014-07-01 00:01:00</td>\n",
       "      <td>0</td>\n",
       "      <td>July</td>\n",
       "      <td>1</td>\n",
       "      <td>Tuesday</td>\n",
       "    </tr>\n",
       "    <tr>\n",
       "      <th>3</th>\n",
       "      <td>708 E 138th St Mott Haven, BX</td>\n",
       "      <td>2014-07-01 00:01:00</td>\n",
       "      <td>0</td>\n",
       "      <td>July</td>\n",
       "      <td>1</td>\n",
       "      <td>Tuesday</td>\n",
       "    </tr>\n",
       "    <tr>\n",
       "      <th>4</th>\n",
       "      <td>700 E 140th St Mott Haven, BX</td>\n",
       "      <td>2014-07-01 00:02:00</td>\n",
       "      <td>0</td>\n",
       "      <td>July</td>\n",
       "      <td>1</td>\n",
       "      <td>Tuesday</td>\n",
       "    </tr>\n",
       "    <tr>\n",
       "      <th>...</th>\n",
       "      <td>...</td>\n",
       "      <td>...</td>\n",
       "      <td>...</td>\n",
       "      <td>...</td>\n",
       "      <td>...</td>\n",
       "      <td>...</td>\n",
       "    </tr>\n",
       "    <tr>\n",
       "      <th>91707</th>\n",
       "      <td>593 Oak Ter Mott Haven, BX</td>\n",
       "      <td>2014-09-30 23:47:00</td>\n",
       "      <td>23</td>\n",
       "      <td>September</td>\n",
       "      <td>30</td>\n",
       "      <td>Tuesday</td>\n",
       "    </tr>\n",
       "    <tr>\n",
       "      <th>91708</th>\n",
       "      <td>645 Westchester Ave South Bronx, BX</td>\n",
       "      <td>2014-09-30 23:48:00</td>\n",
       "      <td>23</td>\n",
       "      <td>September</td>\n",
       "      <td>30</td>\n",
       "      <td>Tuesday</td>\n",
       "    </tr>\n",
       "    <tr>\n",
       "      <th>91709</th>\n",
       "      <td>625 Tinton Ave South Bronx, BX</td>\n",
       "      <td>2014-09-30 23:51:00</td>\n",
       "      <td>23</td>\n",
       "      <td>September</td>\n",
       "      <td>30</td>\n",
       "      <td>Tuesday</td>\n",
       "    </tr>\n",
       "    <tr>\n",
       "      <th>91710</th>\n",
       "      <td>350 Saint Anns Ave Mott Haven, BX</td>\n",
       "      <td>2014-09-30 23:54:00</td>\n",
       "      <td>23</td>\n",
       "      <td>September</td>\n",
       "      <td>30</td>\n",
       "      <td>Tuesday</td>\n",
       "    </tr>\n",
       "    <tr>\n",
       "      <th>91711</th>\n",
       "      <td>846 Tinton Ave Morrisania, BX</td>\n",
       "      <td>2014-09-30 23:58:00</td>\n",
       "      <td>23</td>\n",
       "      <td>September</td>\n",
       "      <td>30</td>\n",
       "      <td>Tuesday</td>\n",
       "    </tr>\n",
       "  </tbody>\n",
       "</table>\n",
       "<p>91712 rows × 6 columns</p>\n",
       "</div>"
      ],
      "text/plain": [
       "                            PICK UP ADDRESS           Date/Time  Hour  \\\n",
       "0             874 E 139th St Mott Haven, BX 2014-07-01 00:00:00     0   \n",
       "1             628 E 141st St Mott Haven, BX 2014-07-01 00:01:00     0   \n",
       "2            601 E 156th St South Bronx, BX 2014-07-01 00:01:00     0   \n",
       "3             708 E 138th St Mott Haven, BX 2014-07-01 00:01:00     0   \n",
       "4             700 E 140th St Mott Haven, BX 2014-07-01 00:02:00     0   \n",
       "...                                     ...                 ...   ...   \n",
       "91707            593 Oak Ter Mott Haven, BX 2014-09-30 23:47:00    23   \n",
       "91708   645 Westchester Ave South Bronx, BX 2014-09-30 23:48:00    23   \n",
       "91709        625 Tinton Ave South Bronx, BX 2014-09-30 23:51:00    23   \n",
       "91710     350 Saint Anns Ave Mott Haven, BX 2014-09-30 23:54:00    23   \n",
       "91711         846 Tinton Ave Morrisania, BX 2014-09-30 23:58:00    23   \n",
       "\n",
       "           Month  Day DayOfWeek  \n",
       "0           July    1   Tuesday  \n",
       "1           July    1   Tuesday  \n",
       "2           July    1   Tuesday  \n",
       "3           July    1   Tuesday  \n",
       "4           July    1   Tuesday  \n",
       "...          ...  ...       ...  \n",
       "91707  September   30   Tuesday  \n",
       "91708  September   30   Tuesday  \n",
       "91709  September   30   Tuesday  \n",
       "91710  September   30   Tuesday  \n",
       "91711  September   30   Tuesday  \n",
       "\n",
       "[91712 rows x 6 columns]"
      ]
     },
     "execution_count": 7,
     "metadata": {},
     "output_type": "execute_result"
    }
   ],
   "source": [
    "data"
   ]
  },
  {
   "cell_type": "code",
   "execution_count": 8,
   "metadata": {},
   "outputs": [
    {
     "data": {
      "text/plain": [
       "array(['Tuesday', 'Wednesday', 'Thursday', 'Friday', 'Saturday', 'Sunday',\n",
       "       'Monday'], dtype=object)"
      ]
     },
     "execution_count": 8,
     "metadata": {},
     "output_type": "execute_result"
    }
   ],
   "source": [
    "data['DayOfWeek'].unique()"
   ]
  },
  {
   "cell_type": "code",
   "execution_count": 9,
   "metadata": {},
   "outputs": [
    {
     "data": {
      "text/plain": [
       "array(['July', 'August', 'September'], dtype=object)"
      ]
     },
     "execution_count": 9,
     "metadata": {},
     "output_type": "execute_result"
    }
   ],
   "source": [
    "data['Month'].unique()"
   ]
  },
  {
   "cell_type": "code",
   "execution_count": 10,
   "metadata": {},
   "outputs": [],
   "source": [
    "month_order = ['July', 'August', 'September']"
   ]
  },
  {
   "cell_type": "code",
   "execution_count": 11,
   "metadata": {},
   "outputs": [
    {
     "name": "stdout",
     "output_type": "stream",
     "text": [
      "Month\n",
      "July         30348\n",
      "August       31483\n",
      "September    29881\n",
      "Name: count, dtype: int64\n"
     ]
    },
    {
     "data": {
      "image/png": "[encoded data removed]",
      "text/plain": [
       "<Figure size 1000x600 with 1 Axes>"
      ]
     },
     "metadata": {},
     "output_type": "display_data"
    }
   ],
   "source": [
    "plot_rides_by_month(data, month_order)"
   ]
  },
  {
   "cell_type": "code",
   "execution_count": 12,
   "metadata": {},
   "outputs": [
    {
     "data": {
      "image/png": "[encoded data removed]",
      "text/plain": [
       "<Figure size 1000x600 with 1 Axes>"
      ]
     },
     "metadata": {},
     "output_type": "display_data"
    }
   ],
   "source": [
    "plot_rides_by_day(data)"
   ]
  },
  {
   "cell_type": "code",
   "execution_count": 13,
   "metadata": {},
   "outputs": [
    {
     "data": {
      "image/png": "[encoded data removed]",
      "text/plain": [
       "<Figure size 1000x600 with 1 Axes>"
      ]
     },
     "metadata": {},
     "output_type": "display_data"
    }
   ],
   "source": [
    "plot_rides_by_hour(data)"
   ]
  }
 ],
 "metadata": {
  "kernelspec": {
   "display_name": "Python 3",
   "language": "python",
   "name": "python3"
  },
  "language_info": {
   "codemirror_mode": {
    "name": "ipython",
    "version": 3
   },
   "file_extension": ".py",
   "mimetype": "text/x-python",
   "name": "python",
   "nbconvert_exporter": "python",
   "pygments_lexer": "ipython3",
   "version": "3.10.12"
  }
 },
 "nbformat": 4,
 "nbformat_minor": 2
}
